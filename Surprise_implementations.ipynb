{
 "cells": [
  {
   "cell_type": "code",
   "execution_count": 9,
   "metadata": {},
   "outputs": [],
   "source": [
    "from submission_to_surprise import *\n",
    "from surprise import Dataset, Reader, accuracy\n",
    "from surprise.model_selection import *\n",
    "from surprise.prediction_algorithms import *\n",
    "import pandas as pd"
   ]
  },
  {
   "cell_type": "code",
   "execution_count": 10,
   "metadata": {},
   "outputs": [],
   "source": [
    "data_folder = 'csv/'"
   ]
  },
  {
   "cell_type": "code",
   "execution_count": 11,
   "metadata": {},
   "outputs": [],
   "source": [
    "df = pd.read_csv(data_folder + 'surprise_train.csv')\n",
    "df = df[['User', 'Item', 'Prediction']]\n",
    "reader = Reader(rating_scale=(1, 5))\n",
    "data = Dataset.load_from_df(df[['User', 'Item', 'Prediction']], reader)"
   ]
  },
  {
   "cell_type": "markdown",
   "metadata": {},
   "source": [
    "# Surprise algorithms comparison"
   ]
  },
  {
   "cell_type": "code",
   "execution_count": 21,
   "metadata": {},
   "outputs": [
    {
     "name": "stdout",
     "output_type": "stream",
     "text": [
      "RMSE for Normal Predictor is 1.4838478118860339\n",
      "RMSE for Baseline Only is 0.9990113588899588\n",
      "RMSE for k-NN Basic is 1.0256702819676673\n",
      "RMSE for k-NN with means is 0.994523610559874\n",
      "RMSE for k-NN with ZScore is 0.9960953658912202\n",
      "RMSE for k-NN Baseline is 0.9943079485319859\n",
      "RMSE for SVD is 1.000070634576365\n",
      "RMSE for NMF is 1.0104056029390045\n",
      "RMSE for Slope one is 1.0011204420188182\n",
      "RMSE for Co-clustering is 1.0104667941922378\n"
     ]
    }
   ],
   "source": [
    "# !!!!!!!!!!! This cell takes a very long time to run !!!!!!!!!!!\n",
    "trainset, testset = train_test_split(data, test_size=.20, random_state=2018)\n",
    "\n",
    "algos = {'Normal Predictor': NormalPredictor(),\n",
    "         'Baseline Only': BaselineOnly(bsl_options={'reg_i': 10, 'reg_u': 15, 'n_epochs': 10}, verbose=False),\n",
    "         'k-NN Basic': KNNBasic(k=40, min_k=1, sim_options={'user_based': True}, verbose=False),\n",
    "         'k-NN with means': KNNWithMeans(k=40, min_k=1, sim_options={'user_based': True}, verbose=False),\n",
    "         'k-NN with ZScore': KNNWithZScore(k=40, min_k=1, sim_options={'user_based': True}, verbose=False),\n",
    "         'k-NN Baseline': KNNBaseline(k=40, min_k=1, sim_options={'user_based': True}, verbose=False),\n",
    "         'SVD': SVD(n_epochs=20,n_factors=20, biased=True, lr_all=0.002, reg_all=0.02, random_state=2018),\n",
    "         'NMF': NMF(n_factors=15, n_epochs=50, biased=False, reg_pu=0.06, reg_qi=0.06, reg_bu=0.02, reg_bi=0.02, lr_bu=0.005, lr_bi=0.005, init_low=0, init_high=1, random_state=2018),\n",
    "         'Slope one': SlopeOne(),\n",
    "         'Co-clustering': CoClustering(n_cltr_u=3, n_cltr_i=3, n_epochs=20, random_state=2018)}\n",
    "\n",
    "for algo in algos:\n",
    "    predictions = algos[algo].fit(trainset).test(testset)\n",
    "\n",
    "    rmse = accuracy.rmse(predictions, verbose=False)\n",
    "    print(f'RMSE for {algo} is {rmse}')"
   ]
  },
  {
   "cell_type": "markdown",
   "metadata": {},
   "source": [
    "# Grid-search"
   ]
  },
  {
   "cell_type": "code",
   "execution_count": 4,
   "metadata": {},
   "outputs": [
    {
     "name": "stderr",
     "output_type": "stream",
     "text": [
      "[Parallel(n_jobs=1)]: Using backend SequentialBackend with 1 concurrent workers.\n",
      "[Parallel(n_jobs=1)]: Done   1 out of   1 | elapsed:  2.4min remaining:    0.0s\n"
     ]
    },
    {
     "name": "stdout",
     "output_type": "stream",
     "text": [
      "1.0005328642957334\n",
      "{'n_factors': 20, 'biased': True, 'n_epochs': 100}\n"
     ]
    },
    {
     "name": "stderr",
     "output_type": "stream",
     "text": [
      "[Parallel(n_jobs=1)]: Done  36 out of  36 | elapsed: 98.4min finished\n"
     ]
    }
   ],
   "source": [
    "algo = NMF\n",
    "\n",
    "#param_grid = {'k': [60], 'min_k': [2], 'bsl_options': {'user_based': [True, False]}}\n",
    "param_grid = {'n_factors': [5, 10, 19, 20, 25, 30], 'biased':[True, False], 'n_epochs': [100]}\n",
    "\n",
    "gs = GridSearchCV(algo, param_grid, measures=['rmse'], cv=3, joblib_verbose=2)\n",
    "\n",
    "gs.fit(data)\n",
    "\n",
    "print(gs.best_score['rmse'])\n",
    "print(gs.best_params['rmse'])"
   ]
  },
  {
   "cell_type": "code",
   "execution_count": 6,
   "metadata": {},
   "outputs": [
    {
     "name": "stderr",
     "output_type": "stream",
     "text": [
      "[Parallel(n_jobs=1)]: Using backend SequentialBackend with 1 concurrent workers.\n",
      "[Parallel(n_jobs=1)]: Done   1 out of   1 | elapsed:  1.2min remaining:    0.0s\n"
     ]
    },
    {
     "name": "stdout",
     "output_type": "stream",
     "text": [
      "1.0131258449518403\n",
      "{'n_cltr_u': 20, 'n_cltr_i': 5, 'n_epochs': 100}\n"
     ]
    },
    {
     "name": "stderr",
     "output_type": "stream",
     "text": [
      "[Parallel(n_jobs=1)]: Done  96 out of  96 | elapsed: 473.3min finished\n"
     ]
    }
   ],
   "source": [
    "algo = CoClustering\n",
    "\n",
    "#param_grid = {'k': [60], 'min_k': [2], 'bsl_options': {'user_based': [True, False]}}\n",
    "param_grid = {'n_cltr_u': [5, 10, 20, 30], 'n_cltr_i': [5, 10, 20, 30], 'n_epochs': [50, 100]}\n",
    "\n",
    "gs = GridSearchCV(algo, param_grid, measures=['rmse'], cv=3, joblib_verbose=2)\n",
    "\n",
    "gs.fit(data)\n",
    "\n",
    "print(gs.best_score['rmse'])\n",
    "print(gs.best_params['rmse'])"
   ]
  },
  {
   "cell_type": "code",
   "execution_count": null,
   "metadata": {},
   "outputs": [],
   "source": []
  },
  {
   "cell_type": "code",
   "execution_count": null,
   "metadata": {},
   "outputs": [],
   "source": []
  },
  {
   "cell_type": "code",
   "execution_count": 8,
   "metadata": {},
   "outputs": [
    {
     "name": "stderr",
     "output_type": "stream",
     "text": [
      "[Parallel(n_jobs=1)]: Using backend SequentialBackend with 1 concurrent workers.\n",
      "[Parallel(n_jobs=1)]: Done   1 out of   1 | elapsed:   32.3s remaining:    0.0s\n"
     ]
    },
    {
     "name": "stdout",
     "output_type": "stream",
     "text": [
      "1.000991743332894\n",
      "{'n_factors': 17, 'lr_all': 0.002, 'reg_all': 0.05}\n"
     ]
    },
    {
     "name": "stderr",
     "output_type": "stream",
     "text": [
      "[Parallel(n_jobs=1)]: Done  18 out of  18 | elapsed: 16.8min finished\n"
     ]
    }
   ],
   "source": [
    "algo = SVD\n",
    "\n",
    "#param_grid = {'k': [60], 'min_k': [2], 'bsl_options': {'user_based': [True, False]}}\n",
    "param_grid = {'n_factors': [17, 50, 100], 'lr_all': [0.002], 'reg_all': [0, 0.05]}\n",
    "\n",
    "gs = GridSearchCV(algo, param_grid, measures=['rmse'], cv=3, joblib_verbose=2)\n",
    "\n",
    "gs.fit(data)\n",
    "\n",
    "print(gs.best_score['rmse'])\n",
    "print(gs.best_params['rmse'])"
   ]
  },
  {
   "cell_type": "markdown",
   "metadata": {},
   "source": [
    "# Cross-validation"
   ]
  },
  {
   "cell_type": "code",
   "execution_count": 14,
   "metadata": {},
   "outputs": [
    {
     "name": "stdout",
     "output_type": "stream",
     "text": [
      "Evaluating RMSE of algorithm SVD on 5 split(s).\n",
      "\n",
      "                  Fold 1  Fold 2  Fold 3  Fold 4  Fold 5  Mean    Std     \n",
      "RMSE (testset)    0.9989  0.9968  0.9998  0.9984  0.9985  0.9985  0.0010  \n",
      "Fit time          109.10  112.82  116.07  105.20  94.76   107.59  7.37    \n",
      "Test time         4.76    3.49    5.72    3.58    3.83    4.28    0.85    \n"
     ]
    },
    {
     "data": {
      "text/plain": [
       "{'test_rmse': array([0.99889983, 0.99682049, 0.99983323, 0.99843902, 0.99850137]),\n",
       " 'fit_time': (109.09758067131042,\n",
       "  112.8232307434082,\n",
       "  116.06696963310242,\n",
       "  105.20380973815918,\n",
       "  94.76237297058105),\n",
       " 'test_time': (4.75638222694397,\n",
       "  3.489480495452881,\n",
       "  5.719065189361572,\n",
       "  3.5795481204986572,\n",
       "  3.8317439556121826)}"
      ]
     },
     "execution_count": 14,
     "metadata": {},
     "output_type": "execute_result"
    }
   ],
   "source": [
    "algo = SVD(n_factors=100, reg_bu=0.01, reg_bi=0.1, reg_pu=0.1, reg_qi=0.01)\n",
    "\n",
    "cross_validate(algo, data, measures=['RMSE'], cv=5, verbose=True)"
   ]
  },
  {
   "cell_type": "markdown",
   "metadata": {},
   "source": [
    "# Submission"
   ]
  },
  {
   "cell_type": "code",
   "execution_count": 6,
   "metadata": {},
   "outputs": [
    {
     "name": "stdout",
     "output_type": "stream",
     "text": [
      "Estimating biases using als...\n"
     ]
    },
    {
     "data": {
      "text/plain": [
       "<surprise.prediction_algorithms.baseline_only.BaselineOnly at 0x4806018048>"
      ]
     },
     "execution_count": 6,
     "metadata": {},
     "output_type": "execute_result"
    }
   ],
   "source": [
    "algo = BaselineOnly(bsl_options={'reg_i': 15, 'reg_u': 0, 'n_epochs': 200})\n",
    "trainset = data.build_full_trainset()\n",
    "algo.fit(trainset)"
   ]
  },
  {
   "cell_type": "code",
   "execution_count": 7,
   "metadata": {},
   "outputs": [],
   "source": [
    "ids, _ = get_ids_values(data_folder + 'sampleSubmission.csv')\n",
    "item, user = replace_ids_submission(ids)\n",
    "prediction = np.zeros(len(item))\n",
    "for i in range(len(prediction)):\n",
    "    prediction[i] = algo.predict(user[i], item[i], None, True, False).est\n",
    "create_csv_submission(ids, prediction, 'submission.csv')"
   ]
  },
  {
   "cell_type": "code",
   "execution_count": 19,
   "metadata": {},
   "outputs": [],
   "source": []
  }
 ],
 "metadata": {
  "kernelspec": {
   "display_name": "Python 3",
   "language": "python",
   "name": "python3"
  },
  "language_info": {
   "codemirror_mode": {
    "name": "ipython",
    "version": 3
   },
   "file_extension": ".py",
   "mimetype": "text/x-python",
   "name": "python",
   "nbconvert_exporter": "python",
   "pygments_lexer": "ipython3",
   "version": "3.6.5"
  }
 },
 "nbformat": 4,
 "nbformat_minor": 2
}
