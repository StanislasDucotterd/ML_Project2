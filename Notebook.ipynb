{
 "cells": [
  {
   "cell_type": "code",
   "execution_count": 80,
   "metadata": {},
   "outputs": [],
   "source": [
    "from data_formatting import *\n",
    "from surprise import *\n",
    "import pandas as pd\n",
    "from surprise import SVD, Dataset, Reader, accuracy\n",
    "from surprise.model_selection import *\n",
    "from surprise.prediction_algorithms import *\n",
    "import matplotlib.pyplot as plt\n",
    "from sklearn.linear_model import LinearRegression, LogisticRegression\n",
    "from sklearn.preprocessing import OneHotEncoder\n",
    "from sklearn.model_selection import cross_val_predict\n",
    "from sklearn.model_selection import cross_val_score"
   ]
  },
  {
   "cell_type": "code",
   "execution_count": 19,
   "metadata": {},
   "outputs": [],
   "source": [
    "PATH_CLEAN = 'csv/data_clean.csv'\n",
    "PATH_SAMPLE = 'csv/sampleSubmission.csv'\n",
    "PATH_SUBMISSION = 'csv/submission.csv'"
   ]
  },
  {
   "cell_type": "code",
   "execution_count": 20,
   "metadata": {},
   "outputs": [
    {
     "data": {
      "text/html": [
       "<div>\n",
       "<style scoped>\n",
       "    .dataframe tbody tr th:only-of-type {\n",
       "        vertical-align: middle;\n",
       "    }\n",
       "\n",
       "    .dataframe tbody tr th {\n",
       "        vertical-align: top;\n",
       "    }\n",
       "\n",
       "    .dataframe thead th {\n",
       "        text-align: right;\n",
       "    }\n",
       "</style>\n",
       "<table border=\"1\" class=\"dataframe\">\n",
       "  <thead>\n",
       "    <tr style=\"text-align: right;\">\n",
       "      <th></th>\n",
       "      <th>User</th>\n",
       "      <th>Item</th>\n",
       "      <th>Rating</th>\n",
       "    </tr>\n",
       "  </thead>\n",
       "  <tbody>\n",
       "    <tr>\n",
       "      <th>0</th>\n",
       "      <td>44</td>\n",
       "      <td>1</td>\n",
       "      <td>4</td>\n",
       "    </tr>\n",
       "    <tr>\n",
       "      <th>1</th>\n",
       "      <td>61</td>\n",
       "      <td>1</td>\n",
       "      <td>3</td>\n",
       "    </tr>\n",
       "    <tr>\n",
       "      <th>2</th>\n",
       "      <td>67</td>\n",
       "      <td>1</td>\n",
       "      <td>4</td>\n",
       "    </tr>\n",
       "  </tbody>\n",
       "</table>\n",
       "</div>"
      ],
      "text/plain": [
       "   User  Item  Rating\n",
       "0    44     1       4\n",
       "1    61     1       3\n",
       "2    67     1       4"
      ]
     },
     "execution_count": 20,
     "metadata": {},
     "output_type": "execute_result"
    }
   ],
   "source": [
    "df = pd.read_csv(PATH_CLEAN)\n",
    "df.head(3)"
   ]
  },
  {
   "cell_type": "code",
   "execution_count": 22,
   "metadata": {},
   "outputs": [],
   "source": [
    "reader = Reader(rating_scale=(1, 5))\n",
    "data = Dataset.load_from_df(df[['User', 'Item', 'Rating']], reader)"
   ]
  },
  {
   "cell_type": "code",
   "execution_count": 23,
   "metadata": {},
   "outputs": [],
   "source": [
    "trainset, testset = train_test_split(data, test_size=0.1, random_state=2018)"
   ]
  },
  {
   "cell_type": "markdown",
   "metadata": {},
   "source": [
    "### Stage 1 learning"
   ]
  },
  {
   "cell_type": "code",
   "execution_count": 146,
   "metadata": {},
   "outputs": [
    {
     "name": "stdout",
     "output_type": "stream",
     "text": [
      "Algo 0 learnt!\n",
      "Algo 1 learnt!\n",
      "Algo 2 learnt!\n",
      "Algo 3 learnt!\n",
      "Algo 4 learnt!\n",
      "Algo 5 learnt!\n",
      "Algo 6 learnt!\n",
      "Algo 7 learnt!\n",
      "Algo 8 learnt!\n",
      "Algo 9 learnt!\n"
     ]
    }
   ],
   "source": [
    "algos = [NormalPredictor(),\n",
    "        BaselineOnly(bsl_options={'reg_i': 10, 'reg_u': 15, 'n_epochs': 10}, verbose=False),\n",
    "        KNNBasic(k=40, min_k=1, sim_options={'user_based': True}, verbose=False),\n",
    "        KNNWithMeans(k=40, min_k=1, sim_options={'user_based': True}, verbose=False),\n",
    "        KNNWithZScore(k=40, min_k=1, sim_options={'user_based': True}, verbose=False),\n",
    "        KNNBaseline(k=40, min_k=1, sim_options={'user_based': True}, verbose=False),\n",
    "        SVD(n_epochs=20,n_factors=20, biased=True, lr_all=0.002, reg_all=0.02, random_state=2018),\n",
    "        NMF(n_factors=15, n_epochs=50, biased=False, reg_pu=0.06, reg_qi=0.06, reg_bu=0.02, reg_bi=0.02, lr_bu=0.005, lr_bi=0.005, init_low=0, init_high=1, random_state=2018),\n",
    "        SlopeOne(),\n",
    "        CoClustering(n_cltr_u=3, n_cltr_i=3, n_epochs=20, random_state=2018)]\n",
    "\n",
    "for i in range(len(algos)):\n",
    "    algos[i].fit(trainset)\n",
    "    print('Algo ' + repr(i) + ' learnt!')"
   ]
  },
  {
   "cell_type": "code",
   "execution_count": 148,
   "metadata": {},
   "outputs": [],
   "source": [
    "estimations = [[prediction.est for prediction in algo.test(testset)] for algo in algos]"
   ]
  },
  {
   "cell_type": "code",
   "execution_count": 149,
   "metadata": {},
   "outputs": [],
   "source": [
    "estimation_series = [pd.Series(estimation) for estimation in estimations]"
   ]
  },
  {
   "cell_type": "code",
   "execution_count": 150,
   "metadata": {},
   "outputs": [],
   "source": [
    "df_test = pd.DataFrame(testset, columns=['User', 'Item', 'Rating'])\n",
    "feature_cols = []\n",
    "for i in range(len(algos)):\n",
    "    column_name = 'Algo' + repr(i)\n",
    "    feature_cols.append(column_name)\n",
    "    df_test[column_name] = estimation_series[i]\n",
    "               \n",
    "X = df_test[feature_cols]\n",
    "y = df_test['Rating']"
   ]
  },
  {
   "cell_type": "code",
   "execution_count": 151,
   "metadata": {},
   "outputs": [
    {
     "data": {
      "text/plain": [
       "LinearRegression(copy_X=True, fit_intercept=True, n_jobs=1, normalize=False)"
      ]
     },
     "execution_count": 151,
     "metadata": {},
     "output_type": "execute_result"
    }
   ],
   "source": [
    "logistic = LinearRegression()  # create the model\n",
    "logistic.fit(X, y)  # train it"
   ]
  },
  {
   "cell_type": "code",
   "execution_count": 152,
   "metadata": {},
   "outputs": [
    {
     "data": {
      "text/plain": [
       "array([-2.18789943e-04, -4.86612655e-01,  1.97393786e-01, -8.49066424e-01,\n",
       "        6.30090009e-01,  2.68895329e-01,  1.72988617e-01,  6.06363682e-02,\n",
       "        9.26079668e-01,  3.67577867e-02])"
      ]
     },
     "execution_count": 152,
     "metadata": {},
     "output_type": "execute_result"
    }
   ],
   "source": [
    "logistic.coef_"
   ]
  },
  {
   "cell_type": "code",
   "execution_count": 153,
   "metadata": {},
   "outputs": [
    {
     "data": {
      "text/html": [
       "<div>\n",
       "<style scoped>\n",
       "    .dataframe tbody tr th:only-of-type {\n",
       "        vertical-align: middle;\n",
       "    }\n",
       "\n",
       "    .dataframe tbody tr th {\n",
       "        vertical-align: top;\n",
       "    }\n",
       "\n",
       "    .dataframe thead th {\n",
       "        text-align: right;\n",
       "    }\n",
       "</style>\n",
       "<table border=\"1\" class=\"dataframe\">\n",
       "  <thead>\n",
       "    <tr style=\"text-align: right;\">\n",
       "      <th></th>\n",
       "      <th>User</th>\n",
       "      <th>Item</th>\n",
       "      <th>Rating</th>\n",
       "      <th>Algo0</th>\n",
       "      <th>Algo1</th>\n",
       "      <th>Algo2</th>\n",
       "      <th>Algo3</th>\n",
       "      <th>Algo4</th>\n",
       "      <th>Algo5</th>\n",
       "      <th>Algo6</th>\n",
       "      <th>Algo7</th>\n",
       "      <th>Algo8</th>\n",
       "      <th>Algo9</th>\n",
       "    </tr>\n",
       "  </thead>\n",
       "  <tbody>\n",
       "    <tr>\n",
       "      <th>0</th>\n",
       "      <td>1474</td>\n",
       "      <td>785</td>\n",
       "      <td>5.0</td>\n",
       "      <td>2.840598</td>\n",
       "      <td>4.479789</td>\n",
       "      <td>4.237436</td>\n",
       "      <td>4.391744</td>\n",
       "      <td>4.351547</td>\n",
       "      <td>4.383548</td>\n",
       "      <td>4.431765</td>\n",
       "      <td>4.667434</td>\n",
       "      <td>4.565653</td>\n",
       "      <td>4.444841</td>\n",
       "    </tr>\n",
       "    <tr>\n",
       "      <th>1</th>\n",
       "      <td>8103</td>\n",
       "      <td>249</td>\n",
       "      <td>5.0</td>\n",
       "      <td>3.273476</td>\n",
       "      <td>4.267553</td>\n",
       "      <td>4.274363</td>\n",
       "      <td>4.077115</td>\n",
       "      <td>4.077271</td>\n",
       "      <td>4.352364</td>\n",
       "      <td>4.191837</td>\n",
       "      <td>4.257950</td>\n",
       "      <td>4.335988</td>\n",
       "      <td>4.235710</td>\n",
       "    </tr>\n",
       "    <tr>\n",
       "      <th>2</th>\n",
       "      <td>9961</td>\n",
       "      <td>645</td>\n",
       "      <td>5.0</td>\n",
       "      <td>5.000000</td>\n",
       "      <td>4.456925</td>\n",
       "      <td>4.347954</td>\n",
       "      <td>4.138787</td>\n",
       "      <td>4.204443</td>\n",
       "      <td>4.438642</td>\n",
       "      <td>4.421002</td>\n",
       "      <td>4.463796</td>\n",
       "      <td>4.489497</td>\n",
       "      <td>4.347694</td>\n",
       "    </tr>\n",
       "  </tbody>\n",
       "</table>\n",
       "</div>"
      ],
      "text/plain": [
       "   User  Item  Rating     Algo0     Algo1     Algo2     Algo3     Algo4  \\\n",
       "0  1474   785     5.0  2.840598  4.479789  4.237436  4.391744  4.351547   \n",
       "1  8103   249     5.0  3.273476  4.267553  4.274363  4.077115  4.077271   \n",
       "2  9961   645     5.0  5.000000  4.456925  4.347954  4.138787  4.204443   \n",
       "\n",
       "      Algo5     Algo6     Algo7     Algo8     Algo9  \n",
       "0  4.383548  4.431765  4.667434  4.565653  4.444841  \n",
       "1  4.352364  4.191837  4.257950  4.335988  4.235710  \n",
       "2  4.438642  4.421002  4.463796  4.489497  4.347694  "
      ]
     },
     "execution_count": 153,
     "metadata": {},
     "output_type": "execute_result"
    }
   ],
   "source": [
    "df_test.head(3)"
   ]
  },
  {
   "cell_type": "code",
   "execution_count": 160,
   "metadata": {},
   "outputs": [],
   "source": [
    "def estimate(algos, users, items):\n",
    "    return [[algo.predict(x[0], x[1]).est for algo in algos] for x in zip(users, items)]"
   ]
  },
  {
   "cell_type": "code",
   "execution_count": 155,
   "metadata": {},
   "outputs": [],
   "source": [
    "def predict(logistic, algos, users, items):\n",
    "    estimations = estimate(algos, users, items)\n",
    "    print(\"estimations done\")\n",
    "    return logistic.predict(estimations)"
   ]
  },
  {
   "cell_type": "code",
   "execution_count": 161,
   "metadata": {},
   "outputs": [
    {
     "ename": "SyntaxError",
     "evalue": "invalid syntax (<ipython-input-161-f6a59c508f5b>, line 3)",
     "output_type": "error",
     "traceback": [
      "\u001b[1;36m  File \u001b[1;32m\"<ipython-input-161-f6a59c508f5b>\"\u001b[1;36m, line \u001b[1;32m3\u001b[0m\n\u001b[1;33m    estimations = [][]\u001b[0m\n\u001b[1;37m                     ^\u001b[0m\n\u001b[1;31mSyntaxError\u001b[0m\u001b[1;31m:\u001b[0m invalid syntax\n"
     ]
    }
   ],
   "source": [
    "def predict(logistic, algos, users, items):\n",
    "    print('Creating array filled with zeros')\n",
    "    estimations = [][]\n",
    "    for i in range(len(algos)):\n",
    "        print('Estimating using algo ' + repr(i))\n",
    "        for j in range(len(items)):\n",
    "            estimations[i][j] = algo.predict(x[0], x[1]).est\n",
    "    \n",
    "    return logistic.predict(estimations)"
   ]
  },
  {
   "cell_type": "code",
   "execution_count": 156,
   "metadata": {},
   "outputs": [],
   "source": [
    "def predictions_from_path(logistic, algos, path_sample):\n",
    "    users, items, _ = read_original_csv(path_sample)\n",
    "    return predict(logistic, algos, users, items)"
   ]
  },
  {
   "cell_type": "code",
   "execution_count": 157,
   "metadata": {},
   "outputs": [],
   "source": [
    "predictions = predictions_from_path(logistic, algos, PATH_SAMPLE)"
   ]
  },
  {
   "cell_type": "code",
   "execution_count": 158,
   "metadata": {},
   "outputs": [],
   "source": [
    "def submit(predictions, path_sample, path_submission):\n",
    "    ids = read_ids_ratings(path_sample)[0]\n",
    "    create_csv_submission(ids, predictions, path_submission)"
   ]
  },
  {
   "cell_type": "code",
   "execution_count": 159,
   "metadata": {},
   "outputs": [],
   "source": [
    "submit(predictions, PATH_SAMPLE, PATH_SUBMISSION)"
   ]
  },
  {
   "cell_type": "markdown",
   "metadata": {},
   "source": [
    "Old method for estimation using a single algo"
   ]
  },
  {
   "cell_type": "code",
   "execution_count": 84,
   "metadata": {},
   "outputs": [],
   "source": [
    "def predictions_from_path_simple(algo, path_sample):\n",
    "    users, items, _ = read_original_csv(path_sample)\n",
    "    predictions = np.zeros(len(items))\n",
    "    for i in range(len(predictions)):\n",
    "        predictions[i] = algo.predict(users[i], items[i], None, True, False).est\n",
    "    return predictions"
   ]
  },
  {
   "cell_type": "code",
   "execution_count": 19,
   "metadata": {},
   "outputs": [],
   "source": [
    "def predict_and_submit(algo, path_sample, path_submission):\n",
    "    ids = read_ids_ratings(path_sample)[0]\n",
    "    create_csv_submission(ids, predict(algo, path_sample), path_submission)"
   ]
  },
  {
   "cell_type": "code",
   "execution_count": 23,
   "metadata": {},
   "outputs": [],
   "source": [
    "predict_and_submit(algo, PATH_SAMPLE, PATH_SUBMISSION)"
   ]
  }
 ],
 "metadata": {
  "kernelspec": {
   "display_name": "Python 3",
   "language": "python",
   "name": "python3"
  },
  "language_info": {
   "codemirror_mode": {
    "name": "ipython",
    "version": 3
   },
   "file_extension": ".py",
   "mimetype": "text/x-python",
   "name": "python",
   "nbconvert_exporter": "python",
   "pygments_lexer": "ipython3",
   "version": "3.6.5"
  }
 },
 "nbformat": 4,
 "nbformat_minor": 2
}
